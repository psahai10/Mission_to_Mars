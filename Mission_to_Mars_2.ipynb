{
 "cells": [
  {
   "cell_type": "code",
   "execution_count": 6,
   "metadata": {},
   "outputs": [],
   "source": [
    "from bs4 import BeautifulSoup as bs\n",
    "import pandas\n",
    "from splinter import Browser\n",
    "import time"
   ]
  },
  {
   "cell_type": "code",
   "execution_count": 7,
   "metadata": {},
   "outputs": [],
   "source": [
    "executable_path = {'executable_path': '/Users/psaha/Anaconda3/chromedriver'}\n",
    "browser = Browser('chrome', **executable_path, headless=False)"
   ]
  },
  {
   "cell_type": "code",
   "execution_count": 8,
   "metadata": {},
   "outputs": [],
   "source": [
    "mars_data = {}"
   ]
  },
  {
   "cell_type": "code",
   "execution_count": 9,
   "metadata": {},
   "outputs": [],
   "source": [
    "#Part-1\n",
    "url = 'https://mars.nasa.gov/news/'\n",
    "browser.visit(url)"
   ]
  },
  {
   "cell_type": "code",
   "execution_count": 10,
   "metadata": {},
   "outputs": [],
   "source": [
    "html = browser.html\n",
    "soup = bs(html, 'html.parser')"
   ]
  },
  {
   "cell_type": "code",
   "execution_count": 12,
   "metadata": {},
   "outputs": [],
   "source": [
    "news_title = soup.find('div', class_=\"article_teaser_body\").text\n",
    "news_p =  soup.find('div', class_='content_title').text"
   ]
  },
  {
   "cell_type": "code",
   "execution_count": 13,
   "metadata": {},
   "outputs": [],
   "source": [
    "mars_data['News_Title'] = news_title\n",
    "mars_data['News_Parag'] = news_p"
   ]
  },
  {
   "cell_type": "code",
   "execution_count": 14,
   "metadata": {},
   "outputs": [
    {
     "name": "stdout",
     "output_type": "stream",
     "text": [
      "{'News_Title': 'While their causes are still unknown, one of three shaking events looks a lot like the quakes detected on the Moon by the Apollo missions.', 'News_Parag': \"NASA's InSight Detects First Likely 'Quake' on Mars\"}\n"
     ]
    }
   ],
   "source": [
    "print(mars_data)"
   ]
  },
  {
   "cell_type": "code",
   "execution_count": 15,
   "metadata": {},
   "outputs": [],
   "source": [
    "url = 'https://www.jpl.nasa.gov/spaceimages/?search=&category=Mars'\n",
    "browser.visit(url)"
   ]
  },
  {
   "cell_type": "code",
   "execution_count": 16,
   "metadata": {},
   "outputs": [],
   "source": [
    "time.sleep(3)\n",
    "html = browser.html\n",
    "soup = bs(html, 'html.parser')"
   ]
  },
  {
   "cell_type": "code",
   "execution_count": 17,
   "metadata": {},
   "outputs": [],
   "source": [
    "browser.click_link_by_id('full_image')"
   ]
  },
  {
   "cell_type": "code",
   "execution_count": 18,
   "metadata": {},
   "outputs": [],
   "source": [
    "time.sleep(3)\n",
    "html = browser.html\n",
    "soup = bs(html, 'html.parser')"
   ]
  },
  {
   "cell_type": "code",
   "execution_count": 19,
   "metadata": {},
   "outputs": [],
   "source": [
    "featured = soup.find('div', class_=\"fancybox-inner fancybox-skin fancybox-dark-skin fancybox-dark-skin-open\")"
   ]
  },
  {
   "cell_type": "code",
   "execution_count": 20,
   "metadata": {},
   "outputs": [
    {
     "data": {
      "text/plain": [
       "'/spaceimages/images/mediumsize/PIA19920_ip.jpg'"
      ]
     },
     "execution_count": 20,
     "metadata": {},
     "output_type": "execute_result"
    }
   ],
   "source": [
    "link = featured.find('img')['src']\n",
    "link"
   ]
  },
  {
   "cell_type": "code",
   "execution_count": 21,
   "metadata": {},
   "outputs": [
    {
     "data": {
      "text/plain": [
       "'https://www.jpl.nasa.gov/spaceimages/images/mediumsize/PIA19920_ip.jpg'"
      ]
     },
     "execution_count": 21,
     "metadata": {},
     "output_type": "execute_result"
    }
   ],
   "source": [
    "base_url = 'https://www.jpl.nasa.gov'\n",
    "full_url = base_url + link\n",
    "full_url"
   ]
  },
  {
   "cell_type": "code",
   "execution_count": 22,
   "metadata": {},
   "outputs": [],
   "source": [
    "mars_data['featured_image'] = full_url"
   ]
  },
  {
   "cell_type": "code",
   "execution_count": 23,
   "metadata": {},
   "outputs": [
    {
     "name": "stdout",
     "output_type": "stream",
     "text": [
      "{'News_Title': 'While their causes are still unknown, one of three shaking events looks a lot like the quakes detected on the Moon by the Apollo missions.', 'News_Parag': \"NASA's InSight Detects First Likely 'Quake' on Mars\", 'featured_image': 'https://www.jpl.nasa.gov/spaceimages/images/mediumsize/PIA19920_ip.jpg'}\n"
     ]
    }
   ],
   "source": [
    "print(mars_data)"
   ]
  },
  {
   "cell_type": "code",
   "execution_count": 29,
   "metadata": {},
   "outputs": [],
   "source": [
    "#Part-3\n",
    "url = 'https://twitter.com/marswxreport?lang=en'\n",
    "browser.visit(url)"
   ]
  },
  {
   "cell_type": "code",
   "execution_count": 30,
   "metadata": {},
   "outputs": [],
   "source": [
    "html = browser.html\n",
    "soup = bs(html, 'html.parser')"
   ]
  },
  {
   "cell_type": "code",
   "execution_count": 31,
   "metadata": {},
   "outputs": [
    {
     "name": "stdout",
     "output_type": "stream",
     "text": [
      "InSight sol 143 (2019-04-22) low -98.0ºC (-144.3ºF) high -19.8ºC (-3.7ºF)\n",
      "winds from the SW at 4.5 m/s (10.1 mph) gusting to 12.1 m/s (27.2 mph)\n",
      "pressure at 7.40 hPa\n",
      "InSight sol 142 (2019-04-21) low -97.5ºC (-143.5ºF) high -18.4ºC (-1.2ºF)\n",
      "winds from the W at 4.2 m/s (9.3 mph) gusting to 14.8 m/s (33.1\n",
      "InSight sol 141 (2019-04-20) low -98.3ºC (-144.9ºF) high -19.7ºC (-3.5ºF)\n",
      "winds from the SW at 4.7 m/s (10.6 mph) gusting to 12.9 m/s (28.8 mph)\n",
      "pressure at 7.40 hPa\n",
      "InSight sol 140 (2019-04-19) low -98.6ºC (-145.5ºF) high -18.0ºC (-0.4ºF)\n",
      "winds from the W at 4.0 m/s (8.9 mph) gusting to 14.2 m/s (31.8 mph)\n",
      "pressure at 7.40 hPa\n",
      "InSight sol 139 (2019-04-18) low -97.6ºC (-143.7ºF) high -18.1ºC (-0.6ºF)\n",
      "winds from the SW at 4.2 m/s (9.4 mph) gusting to 12.2 m/s (27.2\n",
      "InSight sol 138 (2019-04-17) low -97.7ºC (-143.9ºF) high -17.3ºC (0.9ºF)\n",
      "winds from the W at 4.3 m/s (9.5 mph) gusting to 12.6 m/s (28.1 mph)\n",
      "pressure at 7.30 hPa\n",
      "InSight sol 137 (2019-04-16) low -97.0ºC (-142.7ºF) high -15.9ºC (3.4ºF)\n",
      "winds from the SW at 4.3 m/s (9.7 mph) gusting to 12.4 m/s (27.7 mph)\n",
      "pressure at 7.30 hPa\n",
      "InSight sol 136 (2019-04-14) low -97.3ºC (-143.2ºF) high -16.5ºC (2.4ºF)\n",
      "winds from the WNW at 4.3 m/s (9.6 mph) gusting to 10.8 m/s (24.2 mph)\n",
      "pressure at 7.30 hPa\n",
      "InSight sol 135 (2019-04-13) low -96.5ºC (-141.8ºF) high -16.6ºC (2.2ºF)\n",
      "winds from the SW at 4.2 m/s (9.4 mph) gusting to 11.3 m/s (25.3 mph)\n",
      "pressure at 7.30 hPa\n",
      "InSight sol 134 (2019-04-12) low -98.4ºC (-145.1ºF) high -18.2ºC (-0.8ºF)\n",
      "pressure at 7.30 hPa\n",
      "InSight sol 133 (2019-04-11) low -96.8ºC (-142.3ºF) high -15.7ºC (3.8ºF)\n",
      "winds from the W at 4.2 m/s (9.3 mph) gusting to 11.7 m/s (26.2 mph)\n",
      "pressure at 7.30 hPa\n",
      "InSight sol 132 (2019-04-10) low -97.7ºC (-143.8ºF) high -16.3ºC (2.7ºF)\n",
      "winds from the SW at 4.3 m/s (9.5 mph) gusting to 12.2 m/s (27.3 mph)\n",
      "pressure at 7.30 hPa\n",
      "InSight sol 131 (2019-04-09) low -98.2ºC (-144.8ºF) high -15.6ºC (3.8ºF)\n",
      "winds from the WNW at 4.1 m/s (9.1 mph) gusting to 11.6 m/s (26.0 mph)\n",
      "pressure at 7.30 hPa\n",
      "InSight sol 130 (2019-04-08) low -98.0ºC (-144.4ºF) high -15.5ºC (4.1ºF)\n",
      "winds from the SW at 4.1 m/s (9.3 mph) gusting to 11.7 m/s (26.2 mph)\n",
      "pressure at 7.30 hPa\n",
      "InSight sol 129 (2019-04-07) low -97.7ºC (-143.9ºF) high -16.7ºC (1.9ºF)\n",
      "winds from the SW at 4.1 m/s (9.1 mph) gusting to 11.9 m/s (26.7 mph)\n",
      "pressure at 7.30 hPa\n",
      "InSight sol 128 (2019-04-06) low -97.5ºC (-143.6ºF) high -15.5ºC (4.1ºF)\n",
      "winds from the SW at 4.1 m/s (9.3 mph) gusting to 13.6 m/s (30.4\n",
      "InSight sol 127 (2019-04-05) low -96.6ºC (-141.9ºF) high -16.8ºC (1.8ºF)\n",
      "winds from the SW at 4.2 m/s (9.3 mph) gusting to 11.2 m/s (25.0 mph)\n",
      "pressure at 7.30 hPa\n"
     ]
    }
   ],
   "source": [
    "results = soup.find_all('div', class_='js-tweet-text-container')\n",
    "list_tweets = []\n",
    "for result in results:\n",
    "    if 'InSight' in result.text:\n",
    "        tweets = result.find('p', class_='TweetTextSize TweetTextSize--normal js-tweet-text tweet-text')\n",
    "        stripped_tweets = tweets.text.lstrip()\n",
    "        tweet = stripped_tweets[:-26]\n",
    "        list_tweets.append(tweet)\n",
    "        print(tweet)\n",
    "        "
   ]
  },
  {
   "cell_type": "code",
   "execution_count": 32,
   "metadata": {},
   "outputs": [],
   "source": [
    "mars_data['weather'] = list_tweets"
   ]
  },
  {
   "cell_type": "code",
   "execution_count": 33,
   "metadata": {},
   "outputs": [
    {
     "name": "stdout",
     "output_type": "stream",
     "text": [
      "{'News_Title': 'While their causes are still unknown, one of three shaking events looks a lot like the quakes detected on the Moon by the Apollo missions.', 'News_Parag': \"NASA's InSight Detects First Likely 'Quake' on Mars\", 'featured_image': 'https://www.jpl.nasa.gov/spaceimages/images/mediumsize/PIA19920_ip.jpg', 'weather': ['InSight sol 143 (2019-04-22) low -98.0ºC (-144.3ºF) high -19.8ºC (-3.7ºF)\\nwinds from the SW at 4.5 m/s (10.1 mph) gusting to 12.1 m/s (27.2 mph)\\npressure at 7.40 hPa', 'InSight sol 142 (2019-04-21) low -97.5ºC (-143.5ºF) high -18.4ºC (-1.2ºF)\\nwinds from the W at 4.2 m/s (9.3 mph) gusting to 14.8 m/s (33.1', 'InSight sol 141 (2019-04-20) low -98.3ºC (-144.9ºF) high -19.7ºC (-3.5ºF)\\nwinds from the SW at 4.7 m/s (10.6 mph) gusting to 12.9 m/s (28.8 mph)\\npressure at 7.40 hPa', 'InSight sol 140 (2019-04-19) low -98.6ºC (-145.5ºF) high -18.0ºC (-0.4ºF)\\nwinds from the W at 4.0 m/s (8.9 mph) gusting to 14.2 m/s (31.8 mph)\\npressure at 7.40 hPa', 'InSight sol 139 (2019-04-18) low -97.6ºC (-143.7ºF) high -18.1ºC (-0.6ºF)\\nwinds from the SW at 4.2 m/s (9.4 mph) gusting to 12.2 m/s (27.2', 'InSight sol 138 (2019-04-17) low -97.7ºC (-143.9ºF) high -17.3ºC (0.9ºF)\\nwinds from the W at 4.3 m/s (9.5 mph) gusting to 12.6 m/s (28.1 mph)\\npressure at 7.30 hPa', 'InSight sol 137 (2019-04-16) low -97.0ºC (-142.7ºF) high -15.9ºC (3.4ºF)\\nwinds from the SW at 4.3 m/s (9.7 mph) gusting to 12.4 m/s (27.7 mph)\\npressure at 7.30 hPa', 'InSight sol 136 (2019-04-14) low -97.3ºC (-143.2ºF) high -16.5ºC (2.4ºF)\\nwinds from the WNW at 4.3 m/s (9.6 mph) gusting to 10.8 m/s (24.2 mph)\\npressure at 7.30 hPa', 'InSight sol 135 (2019-04-13) low -96.5ºC (-141.8ºF) high -16.6ºC (2.2ºF)\\nwinds from the SW at 4.2 m/s (9.4 mph) gusting to 11.3 m/s (25.3 mph)\\npressure at 7.30 hPa', 'InSight sol 134 (2019-04-12) low -98.4ºC (-145.1ºF) high -18.2ºC (-0.8ºF)\\npressure at 7.30 hPa', 'InSight sol 133 (2019-04-11) low -96.8ºC (-142.3ºF) high -15.7ºC (3.8ºF)\\nwinds from the W at 4.2 m/s (9.3 mph) gusting to 11.7 m/s (26.2 mph)\\npressure at 7.30 hPa', 'InSight sol 132 (2019-04-10) low -97.7ºC (-143.8ºF) high -16.3ºC (2.7ºF)\\nwinds from the SW at 4.3 m/s (9.5 mph) gusting to 12.2 m/s (27.3 mph)\\npressure at 7.30 hPa', 'InSight sol 131 (2019-04-09) low -98.2ºC (-144.8ºF) high -15.6ºC (3.8ºF)\\nwinds from the WNW at 4.1 m/s (9.1 mph) gusting to 11.6 m/s (26.0 mph)\\npressure at 7.30 hPa', 'InSight sol 130 (2019-04-08) low -98.0ºC (-144.4ºF) high -15.5ºC (4.1ºF)\\nwinds from the SW at 4.1 m/s (9.3 mph) gusting to 11.7 m/s (26.2 mph)\\npressure at 7.30 hPa', 'InSight sol 129 (2019-04-07) low -97.7ºC (-143.9ºF) high -16.7ºC (1.9ºF)\\nwinds from the SW at 4.1 m/s (9.1 mph) gusting to 11.9 m/s (26.7 mph)\\npressure at 7.30 hPa', 'InSight sol 128 (2019-04-06) low -97.5ºC (-143.6ºF) high -15.5ºC (4.1ºF)\\nwinds from the SW at 4.1 m/s (9.3 mph) gusting to 13.6 m/s (30.4', 'InSight sol 127 (2019-04-05) low -96.6ºC (-141.9ºF) high -16.8ºC (1.8ºF)\\nwinds from the SW at 4.2 m/s (9.3 mph) gusting to 11.2 m/s (25.0 mph)\\npressure at 7.30 hPa']}\n"
     ]
    }
   ],
   "source": [
    "print(mars_data)"
   ]
  },
  {
   "cell_type": "code",
   "execution_count": 34,
   "metadata": {},
   "outputs": [],
   "source": [
    "#Part-4\n",
    "url = 'https://space-facts.com/mars/'\n",
    "browser.visit(url)"
   ]
  },
  {
   "cell_type": "code",
   "execution_count": 35,
   "metadata": {},
   "outputs": [],
   "source": [
    "html = browser.html\n",
    "soup = bs(html, 'html.parser')"
   ]
  },
  {
   "cell_type": "code",
   "execution_count": 36,
   "metadata": {},
   "outputs": [],
   "source": [
    "import pandas as pd\n",
    "import numpy as np"
   ]
  },
  {
   "cell_type": "code",
   "execution_count": 37,
   "metadata": {},
   "outputs": [],
   "source": [
    "tables = pd.read_html(url)"
   ]
  },
  {
   "cell_type": "code",
   "execution_count": 38,
   "metadata": {},
   "outputs": [
    {
     "data": {
      "text/plain": [
       "[                      0                              1\n",
       " 0  Equatorial Diameter:                       6,792 km\n",
       " 1       Polar Diameter:                       6,752 km\n",
       " 2                 Mass:  6.42 x 10^23 kg (10.7% Earth)\n",
       " 3                Moons:            2 (Phobos & Deimos)\n",
       " 4       Orbit Distance:       227,943,824 km (1.52 AU)\n",
       " 5         Orbit Period:           687 days (1.9 years)\n",
       " 6  Surface Temperature:                  -153 to 20 °C\n",
       " 7         First Record:              2nd millennium BC\n",
       " 8          Recorded By:           Egyptian astronomers]"
      ]
     },
     "execution_count": 38,
     "metadata": {},
     "output_type": "execute_result"
    }
   ],
   "source": [
    "tables"
   ]
  },
  {
   "cell_type": "code",
   "execution_count": 39,
   "metadata": {},
   "outputs": [
    {
     "data": {
      "text/html": [
       "<div>\n",
       "<style scoped>\n",
       "    .dataframe tbody tr th:only-of-type {\n",
       "        vertical-align: middle;\n",
       "    }\n",
       "\n",
       "    .dataframe tbody tr th {\n",
       "        vertical-align: top;\n",
       "    }\n",
       "\n",
       "    .dataframe thead th {\n",
       "        text-align: right;\n",
       "    }\n",
       "</style>\n",
       "<table border=\"1\" class=\"dataframe\">\n",
       "  <thead>\n",
       "    <tr style=\"text-align: right;\">\n",
       "      <th></th>\n",
       "      <th>Planet facts</th>\n",
       "      <th>Measurements</th>\n",
       "    </tr>\n",
       "  </thead>\n",
       "  <tbody>\n",
       "    <tr>\n",
       "      <th>0</th>\n",
       "      <td>Equatorial Diameter:</td>\n",
       "      <td>6,792 km</td>\n",
       "    </tr>\n",
       "    <tr>\n",
       "      <th>1</th>\n",
       "      <td>Polar Diameter:</td>\n",
       "      <td>6,752 km</td>\n",
       "    </tr>\n",
       "    <tr>\n",
       "      <th>2</th>\n",
       "      <td>Mass:</td>\n",
       "      <td>6.42 x 10^23 kg (10.7% Earth)</td>\n",
       "    </tr>\n",
       "    <tr>\n",
       "      <th>3</th>\n",
       "      <td>Moons:</td>\n",
       "      <td>2 (Phobos &amp; Deimos)</td>\n",
       "    </tr>\n",
       "    <tr>\n",
       "      <th>4</th>\n",
       "      <td>Orbit Distance:</td>\n",
       "      <td>227,943,824 km (1.52 AU)</td>\n",
       "    </tr>\n",
       "    <tr>\n",
       "      <th>5</th>\n",
       "      <td>Orbit Period:</td>\n",
       "      <td>687 days (1.9 years)</td>\n",
       "    </tr>\n",
       "    <tr>\n",
       "      <th>6</th>\n",
       "      <td>Surface Temperature:</td>\n",
       "      <td>-153 to 20 °C</td>\n",
       "    </tr>\n",
       "    <tr>\n",
       "      <th>7</th>\n",
       "      <td>First Record:</td>\n",
       "      <td>2nd millennium BC</td>\n",
       "    </tr>\n",
       "    <tr>\n",
       "      <th>8</th>\n",
       "      <td>Recorded By:</td>\n",
       "      <td>Egyptian astronomers</td>\n",
       "    </tr>\n",
       "  </tbody>\n",
       "</table>\n",
       "</div>"
      ],
      "text/plain": [
       "           Planet facts                   Measurements\n",
       "0  Equatorial Diameter:                       6,792 km\n",
       "1       Polar Diameter:                       6,752 km\n",
       "2                 Mass:  6.42 x 10^23 kg (10.7% Earth)\n",
       "3                Moons:            2 (Phobos & Deimos)\n",
       "4       Orbit Distance:       227,943,824 km (1.52 AU)\n",
       "5         Orbit Period:           687 days (1.9 years)\n",
       "6  Surface Temperature:                  -153 to 20 °C\n",
       "7         First Record:              2nd millennium BC\n",
       "8          Recorded By:           Egyptian astronomers"
      ]
     },
     "execution_count": 39,
     "metadata": {},
     "output_type": "execute_result"
    }
   ],
   "source": [
    "df = tables[0]\n",
    "df.columns = ['Planet facts', 'Measurements']\n",
    "df"
   ]
  },
  {
   "cell_type": "code",
   "execution_count": 44,
   "metadata": {},
   "outputs": [],
   "source": [
    "data = df.to_html"
   ]
  },
  {
   "cell_type": "code",
   "execution_count": 45,
   "metadata": {},
   "outputs": [],
   "source": [
    "mars_data['Mars_Facts'] = data"
   ]
  },
  {
   "cell_type": "code",
   "execution_count": 46,
   "metadata": {},
   "outputs": [
    {
     "name": "stdout",
     "output_type": "stream",
     "text": [
      "{'News_Title': 'While their causes are still unknown, one of three shaking events looks a lot like the quakes detected on the Moon by the Apollo missions.', 'News_Parag': \"NASA's InSight Detects First Likely 'Quake' on Mars\", 'featured_image': 'https://www.jpl.nasa.gov/spaceimages/images/mediumsize/PIA19920_ip.jpg', 'weather': ['InSight sol 143 (2019-04-22) low -98.0ºC (-144.3ºF) high -19.8ºC (-3.7ºF)\\nwinds from the SW at 4.5 m/s (10.1 mph) gusting to 12.1 m/s (27.2 mph)\\npressure at 7.40 hPa', 'InSight sol 142 (2019-04-21) low -97.5ºC (-143.5ºF) high -18.4ºC (-1.2ºF)\\nwinds from the W at 4.2 m/s (9.3 mph) gusting to 14.8 m/s (33.1', 'InSight sol 141 (2019-04-20) low -98.3ºC (-144.9ºF) high -19.7ºC (-3.5ºF)\\nwinds from the SW at 4.7 m/s (10.6 mph) gusting to 12.9 m/s (28.8 mph)\\npressure at 7.40 hPa', 'InSight sol 140 (2019-04-19) low -98.6ºC (-145.5ºF) high -18.0ºC (-0.4ºF)\\nwinds from the W at 4.0 m/s (8.9 mph) gusting to 14.2 m/s (31.8 mph)\\npressure at 7.40 hPa', 'InSight sol 139 (2019-04-18) low -97.6ºC (-143.7ºF) high -18.1ºC (-0.6ºF)\\nwinds from the SW at 4.2 m/s (9.4 mph) gusting to 12.2 m/s (27.2', 'InSight sol 138 (2019-04-17) low -97.7ºC (-143.9ºF) high -17.3ºC (0.9ºF)\\nwinds from the W at 4.3 m/s (9.5 mph) gusting to 12.6 m/s (28.1 mph)\\npressure at 7.30 hPa', 'InSight sol 137 (2019-04-16) low -97.0ºC (-142.7ºF) high -15.9ºC (3.4ºF)\\nwinds from the SW at 4.3 m/s (9.7 mph) gusting to 12.4 m/s (27.7 mph)\\npressure at 7.30 hPa', 'InSight sol 136 (2019-04-14) low -97.3ºC (-143.2ºF) high -16.5ºC (2.4ºF)\\nwinds from the WNW at 4.3 m/s (9.6 mph) gusting to 10.8 m/s (24.2 mph)\\npressure at 7.30 hPa', 'InSight sol 135 (2019-04-13) low -96.5ºC (-141.8ºF) high -16.6ºC (2.2ºF)\\nwinds from the SW at 4.2 m/s (9.4 mph) gusting to 11.3 m/s (25.3 mph)\\npressure at 7.30 hPa', 'InSight sol 134 (2019-04-12) low -98.4ºC (-145.1ºF) high -18.2ºC (-0.8ºF)\\npressure at 7.30 hPa', 'InSight sol 133 (2019-04-11) low -96.8ºC (-142.3ºF) high -15.7ºC (3.8ºF)\\nwinds from the W at 4.2 m/s (9.3 mph) gusting to 11.7 m/s (26.2 mph)\\npressure at 7.30 hPa', 'InSight sol 132 (2019-04-10) low -97.7ºC (-143.8ºF) high -16.3ºC (2.7ºF)\\nwinds from the SW at 4.3 m/s (9.5 mph) gusting to 12.2 m/s (27.3 mph)\\npressure at 7.30 hPa', 'InSight sol 131 (2019-04-09) low -98.2ºC (-144.8ºF) high -15.6ºC (3.8ºF)\\nwinds from the WNW at 4.1 m/s (9.1 mph) gusting to 11.6 m/s (26.0 mph)\\npressure at 7.30 hPa', 'InSight sol 130 (2019-04-08) low -98.0ºC (-144.4ºF) high -15.5ºC (4.1ºF)\\nwinds from the SW at 4.1 m/s (9.3 mph) gusting to 11.7 m/s (26.2 mph)\\npressure at 7.30 hPa', 'InSight sol 129 (2019-04-07) low -97.7ºC (-143.9ºF) high -16.7ºC (1.9ºF)\\nwinds from the SW at 4.1 m/s (9.1 mph) gusting to 11.9 m/s (26.7 mph)\\npressure at 7.30 hPa', 'InSight sol 128 (2019-04-06) low -97.5ºC (-143.6ºF) high -15.5ºC (4.1ºF)\\nwinds from the SW at 4.1 m/s (9.3 mph) gusting to 13.6 m/s (30.4', 'InSight sol 127 (2019-04-05) low -96.6ºC (-141.9ºF) high -16.8ºC (1.8ºF)\\nwinds from the SW at 4.2 m/s (9.3 mph) gusting to 11.2 m/s (25.0 mph)\\npressure at 7.30 hPa'], 'Mars_Facts': <bound method DataFrame.to_html of            Planet facts                   Measurements\n",
      "0  Equatorial Diameter:                       6,792 km\n",
      "1       Polar Diameter:                       6,752 km\n",
      "2                 Mass:  6.42 x 10^23 kg (10.7% Earth)\n",
      "3                Moons:            2 (Phobos & Deimos)\n",
      "4       Orbit Distance:       227,943,824 km (1.52 AU)\n",
      "5         Orbit Period:           687 days (1.9 years)\n",
      "6  Surface Temperature:                  -153 to 20 °C\n",
      "7         First Record:              2nd millennium BC\n",
      "8          Recorded By:           Egyptian astronomers>}\n"
     ]
    }
   ],
   "source": [
    "print(mars_data)"
   ]
  },
  {
   "cell_type": "code",
   "execution_count": 49,
   "metadata": {},
   "outputs": [],
   "source": [
    "#Part-5\n",
    "url = 'https://astrogeology.usgs.gov/search/results?q=hemisphere+enhanced&k1=target&v1=Mars'\n",
    "browser.visit(url)"
   ]
  },
  {
   "cell_type": "code",
   "execution_count": 50,
   "metadata": {},
   "outputs": [],
   "source": [
    "html = browser.html\n",
    "soup = bs(html, 'html.parser')"
   ]
  },
  {
   "cell_type": "code",
   "execution_count": 51,
   "metadata": {},
   "outputs": [
    {
     "data": {
      "text/plain": [
       "['Cerberus Hemisphere Enhanced',\n",
       " 'Schiaparelli Hemisphere Enhanced',\n",
       " 'Syrtis Major Hemisphere Enhanced',\n",
       " 'Valles Marineris Hemisphere Enhanced']"
      ]
     },
     "execution_count": 51,
     "metadata": {},
     "output_type": "execute_result"
    }
   ],
   "source": [
    "partial_text = []\n",
    "texts = soup.find_all('h3')\n",
    "for x in texts:\n",
    "    partial_text.append(x.text)\n",
    "partial_text"
   ]
  },
  {
   "cell_type": "code",
   "execution_count": 52,
   "metadata": {},
   "outputs": [],
   "source": [
    "# browser.click_link_by_partial_text('Schiaparelli Hemisphere Enhanced')\n"
   ]
  },
  {
   "cell_type": "code",
   "execution_count": 53,
   "metadata": {},
   "outputs": [],
   "source": [
    "# html = browser.html\n",
    "# soup = bs(html, 'html.parser')\n",
    "# print(soup.prettify())"
   ]
  },
  {
   "cell_type": "code",
   "execution_count": 54,
   "metadata": {},
   "outputs": [],
   "source": [
    "# soup.find('div', class_='wide-image-wrapper').find('a')['href']"
   ]
  },
  {
   "cell_type": "code",
   "execution_count": 55,
   "metadata": {},
   "outputs": [],
   "source": [
    "links = []\n",
    "for x in partial_text:\n",
    "    browser.click_link_by_partial_text(x)\n",
    "    time.sleep(6)\n",
    "    html = browser.html\n",
    "    soup = bs(html, 'html.parser')\n",
    "    link = soup.find('div', class_='wide-image-wrapper').find('a')['href']\n",
    "    links.append(link)\n",
    "    time.sleep(6)\n",
    "    url = 'https://astrogeology.usgs.gov/search/results?q=hemisphere+enhanced&k1=target&v1=Mars'\n",
    "    browser.visit(url)\n",
    "    time.sleep(6)\n",
    "    html = browser.html\n",
    "    soup = bs(html, 'html.parser')"
   ]
  },
  {
   "cell_type": "code",
   "execution_count": 56,
   "metadata": {},
   "outputs": [
    {
     "data": {
      "text/plain": [
       "['http://astropedia.astrogeology.usgs.gov/download/Mars/Viking/cerberus_enhanced.tif/full.jpg',\n",
       " 'http://astropedia.astrogeology.usgs.gov/download/Mars/Viking/schiaparelli_enhanced.tif/full.jpg',\n",
       " 'http://astropedia.astrogeology.usgs.gov/download/Mars/Viking/syrtis_major_enhanced.tif/full.jpg',\n",
       " 'http://astropedia.astrogeology.usgs.gov/download/Mars/Viking/valles_marineris_enhanced.tif/full.jpg']"
      ]
     },
     "execution_count": 56,
     "metadata": {},
     "output_type": "execute_result"
    }
   ],
   "source": [
    "links"
   ]
  },
  {
   "cell_type": "code",
   "execution_count": 57,
   "metadata": {},
   "outputs": [],
   "source": [
    "hemisphere_image_urls = []\n",
    "\n",
    "# \"title\": \"\", \"img_url\": \"\""
   ]
  },
  {
   "cell_type": "code",
   "execution_count": 58,
   "metadata": {},
   "outputs": [],
   "source": [
    "keys = ['title', 'img_url']\n",
    "    "
   ]
  },
  {
   "cell_type": "code",
   "execution_count": 59,
   "metadata": {},
   "outputs": [
    {
     "data": {
      "text/plain": [
       "[{'title': '', 'img_url': ''},\n",
       " {'title': '', 'img_url': ''},\n",
       " {'title': '', 'img_url': ''},\n",
       " {'title': '', 'img_url': ''}]"
      ]
     },
     "execution_count": 59,
     "metadata": {},
     "output_type": "execute_result"
    }
   ],
   "source": [
    "hemisphere_image_urls = [{key:'' for key in keys} for link in links]\n",
    "hemisphere_image_urls"
   ]
  },
  {
   "cell_type": "code",
   "execution_count": null,
   "metadata": {},
   "outputs": [],
   "source": []
  },
  {
   "cell_type": "code",
   "execution_count": 60,
   "metadata": {},
   "outputs": [],
   "source": [
    "x = 0\n",
    "for text in partial_text:\n",
    "    hemisphere_image_urls[x]['title'] = text\n",
    "    x += 1"
   ]
  },
  {
   "cell_type": "code",
   "execution_count": 61,
   "metadata": {},
   "outputs": [],
   "source": [
    "x = 0\n",
    "for link in links:\n",
    "    hemisphere_image_urls[x]['img_url'] = link\n",
    "    x += 1"
   ]
  },
  {
   "cell_type": "code",
   "execution_count": 62,
   "metadata": {},
   "outputs": [
    {
     "data": {
      "text/plain": [
       "[{'title': 'Cerberus Hemisphere Enhanced',\n",
       "  'img_url': 'http://astropedia.astrogeology.usgs.gov/download/Mars/Viking/cerberus_enhanced.tif/full.jpg'},\n",
       " {'title': 'Schiaparelli Hemisphere Enhanced',\n",
       "  'img_url': 'http://astropedia.astrogeology.usgs.gov/download/Mars/Viking/schiaparelli_enhanced.tif/full.jpg'},\n",
       " {'title': 'Syrtis Major Hemisphere Enhanced',\n",
       "  'img_url': 'http://astropedia.astrogeology.usgs.gov/download/Mars/Viking/syrtis_major_enhanced.tif/full.jpg'},\n",
       " {'title': 'Valles Marineris Hemisphere Enhanced',\n",
       "  'img_url': 'http://astropedia.astrogeology.usgs.gov/download/Mars/Viking/valles_marineris_enhanced.tif/full.jpg'}]"
      ]
     },
     "execution_count": 62,
     "metadata": {},
     "output_type": "execute_result"
    }
   ],
   "source": [
    "hemisphere_image_urls"
   ]
  },
  {
   "cell_type": "code",
   "execution_count": 63,
   "metadata": {},
   "outputs": [],
   "source": [
    "mars_data['Hemispheres'] = hemisphere_image_urls"
   ]
  },
  {
   "cell_type": "code",
   "execution_count": 64,
   "metadata": {},
   "outputs": [
    {
     "name": "stdout",
     "output_type": "stream",
     "text": [
      "{'News_Title': 'While their causes are still unknown, one of three shaking events looks a lot like the quakes detected on the Moon by the Apollo missions.', 'News_Parag': \"NASA's InSight Detects First Likely 'Quake' on Mars\", 'featured_image': 'https://www.jpl.nasa.gov/spaceimages/images/mediumsize/PIA19920_ip.jpg', 'weather': ['InSight sol 143 (2019-04-22) low -98.0ºC (-144.3ºF) high -19.8ºC (-3.7ºF)\\nwinds from the SW at 4.5 m/s (10.1 mph) gusting to 12.1 m/s (27.2 mph)\\npressure at 7.40 hPa', 'InSight sol 142 (2019-04-21) low -97.5ºC (-143.5ºF) high -18.4ºC (-1.2ºF)\\nwinds from the W at 4.2 m/s (9.3 mph) gusting to 14.8 m/s (33.1', 'InSight sol 141 (2019-04-20) low -98.3ºC (-144.9ºF) high -19.7ºC (-3.5ºF)\\nwinds from the SW at 4.7 m/s (10.6 mph) gusting to 12.9 m/s (28.8 mph)\\npressure at 7.40 hPa', 'InSight sol 140 (2019-04-19) low -98.6ºC (-145.5ºF) high -18.0ºC (-0.4ºF)\\nwinds from the W at 4.0 m/s (8.9 mph) gusting to 14.2 m/s (31.8 mph)\\npressure at 7.40 hPa', 'InSight sol 139 (2019-04-18) low -97.6ºC (-143.7ºF) high -18.1ºC (-0.6ºF)\\nwinds from the SW at 4.2 m/s (9.4 mph) gusting to 12.2 m/s (27.2', 'InSight sol 138 (2019-04-17) low -97.7ºC (-143.9ºF) high -17.3ºC (0.9ºF)\\nwinds from the W at 4.3 m/s (9.5 mph) gusting to 12.6 m/s (28.1 mph)\\npressure at 7.30 hPa', 'InSight sol 137 (2019-04-16) low -97.0ºC (-142.7ºF) high -15.9ºC (3.4ºF)\\nwinds from the SW at 4.3 m/s (9.7 mph) gusting to 12.4 m/s (27.7 mph)\\npressure at 7.30 hPa', 'InSight sol 136 (2019-04-14) low -97.3ºC (-143.2ºF) high -16.5ºC (2.4ºF)\\nwinds from the WNW at 4.3 m/s (9.6 mph) gusting to 10.8 m/s (24.2 mph)\\npressure at 7.30 hPa', 'InSight sol 135 (2019-04-13) low -96.5ºC (-141.8ºF) high -16.6ºC (2.2ºF)\\nwinds from the SW at 4.2 m/s (9.4 mph) gusting to 11.3 m/s (25.3 mph)\\npressure at 7.30 hPa', 'InSight sol 134 (2019-04-12) low -98.4ºC (-145.1ºF) high -18.2ºC (-0.8ºF)\\npressure at 7.30 hPa', 'InSight sol 133 (2019-04-11) low -96.8ºC (-142.3ºF) high -15.7ºC (3.8ºF)\\nwinds from the W at 4.2 m/s (9.3 mph) gusting to 11.7 m/s (26.2 mph)\\npressure at 7.30 hPa', 'InSight sol 132 (2019-04-10) low -97.7ºC (-143.8ºF) high -16.3ºC (2.7ºF)\\nwinds from the SW at 4.3 m/s (9.5 mph) gusting to 12.2 m/s (27.3 mph)\\npressure at 7.30 hPa', 'InSight sol 131 (2019-04-09) low -98.2ºC (-144.8ºF) high -15.6ºC (3.8ºF)\\nwinds from the WNW at 4.1 m/s (9.1 mph) gusting to 11.6 m/s (26.0 mph)\\npressure at 7.30 hPa', 'InSight sol 130 (2019-04-08) low -98.0ºC (-144.4ºF) high -15.5ºC (4.1ºF)\\nwinds from the SW at 4.1 m/s (9.3 mph) gusting to 11.7 m/s (26.2 mph)\\npressure at 7.30 hPa', 'InSight sol 129 (2019-04-07) low -97.7ºC (-143.9ºF) high -16.7ºC (1.9ºF)\\nwinds from the SW at 4.1 m/s (9.1 mph) gusting to 11.9 m/s (26.7 mph)\\npressure at 7.30 hPa', 'InSight sol 128 (2019-04-06) low -97.5ºC (-143.6ºF) high -15.5ºC (4.1ºF)\\nwinds from the SW at 4.1 m/s (9.3 mph) gusting to 13.6 m/s (30.4', 'InSight sol 127 (2019-04-05) low -96.6ºC (-141.9ºF) high -16.8ºC (1.8ºF)\\nwinds from the SW at 4.2 m/s (9.3 mph) gusting to 11.2 m/s (25.0 mph)\\npressure at 7.30 hPa'], 'Mars_Facts': <bound method DataFrame.to_html of            Planet facts                   Measurements\n",
      "0  Equatorial Diameter:                       6,792 km\n",
      "1       Polar Diameter:                       6,752 km\n",
      "2                 Mass:  6.42 x 10^23 kg (10.7% Earth)\n",
      "3                Moons:            2 (Phobos & Deimos)\n",
      "4       Orbit Distance:       227,943,824 km (1.52 AU)\n",
      "5         Orbit Period:           687 days (1.9 years)\n",
      "6  Surface Temperature:                  -153 to 20 °C\n",
      "7         First Record:              2nd millennium BC\n",
      "8          Recorded By:           Egyptian astronomers>, 'Hemispheres': [{'title': 'Cerberus Hemisphere Enhanced', 'img_url': 'http://astropedia.astrogeology.usgs.gov/download/Mars/Viking/cerberus_enhanced.tif/full.jpg'}, {'title': 'Schiaparelli Hemisphere Enhanced', 'img_url': 'http://astropedia.astrogeology.usgs.gov/download/Mars/Viking/schiaparelli_enhanced.tif/full.jpg'}, {'title': 'Syrtis Major Hemisphere Enhanced', 'img_url': 'http://astropedia.astrogeology.usgs.gov/download/Mars/Viking/syrtis_major_enhanced.tif/full.jpg'}, {'title': 'Valles Marineris Hemisphere Enhanced', 'img_url': 'http://astropedia.astrogeology.usgs.gov/download/Mars/Viking/valles_marineris_enhanced.tif/full.jpg'}]}\n"
     ]
    }
   ],
   "source": [
    "print(mars_data)"
   ]
  },
  {
   "cell_type": "code",
   "execution_count": null,
   "metadata": {},
   "outputs": [],
   "source": []
  }
 ],
 "metadata": {
  "kernelspec": {
   "display_name": "Python 3",
   "language": "python",
   "name": "python3"
  },
  "language_info": {
   "codemirror_mode": {
    "name": "ipython",
    "version": 3
   },
   "file_extension": ".py",
   "mimetype": "text/x-python",
   "name": "python",
   "nbconvert_exporter": "python",
   "pygments_lexer": "ipython3",
   "version": "3.7.3"
  }
 },
 "nbformat": 4,
 "nbformat_minor": 2
}
